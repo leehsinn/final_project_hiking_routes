{
 "cells": [
  {
   "cell_type": "code",
   "execution_count": 1,
   "id": "96308441",
   "metadata": {},
   "outputs": [
    {
     "name": "stderr",
     "output_type": "stream",
     "text": [
      "C:\\Users\\user\\AppData\\Local\\Temp\\ipykernel_146792\\3237967871.py:7: DeprecationWarning: executable_path has been deprecated, please pass in a Service object\n",
      "  driver = webdriver.Chrome(\"C:\\\\Users\\\\user\\\\chromedriver.exe\")\n"
     ]
    }
   ],
   "source": [
    "from selenium import webdriver \n",
    "from selenium.webdriver.common.by import By\n",
    "from selenium.webdriver.support.wait import WebDriverWait\n",
    "from selenium.webdriver.support import expected_conditions as EC\n",
    "from selenium.webdriver.chrome.options import Options\n",
    "\n",
    "driver = webdriver.Chrome(\"C:\\\\Users\\\\user\\\\chromedriver.exe\")\n",
    "driver.get(\"https://hiking.biji.co/index.php?q=trail\")\n",
    "\n",
    "#name = driver.find_element(By.CSS_SELECTOR,\"a[class='text-current']\")\n",
    "#get_attribute(\"href\")\n"
   ]
  },
  {
   "cell_type": "code",
   "execution_count": 2,
   "id": "ada2509f",
   "metadata": {},
   "outputs": [
    {
     "name": "stderr",
     "output_type": "stream",
     "text": [
      "C:\\Users\\user\\AppData\\Local\\Temp\\ipykernel_205644\\232764413.py:11: DeprecationWarning: executable_path has been deprecated, please pass in a Service object\n",
      "  driver = webdriver.Chrome(\"C:\\\\Users\\\\user\\\\chromedriver.exe\")\n"
     ]
    },
    {
     "name": "stdout",
     "output_type": "stream",
     "text": [
      "['https://hiking.biji.co/index.php?q=trail&act=detail&id=76', 'https://hiking.biji.co/index.php?q=trail&act=detail&id=54', 'https://hiking.biji.co/index.php?q=trail&act=detail&id=171', 'https://hiking.biji.co/index.php?q=trail&act=detail&id=71', 'https://hiking.biji.co/index.php?q=trail&act=detail&id=108', 'https://hiking.biji.co/index.php?q=trail&act=detail&id=228', 'https://hiking.biji.co/index.php?q=trail&act=detail&id=30', 'https://hiking.biji.co/index.php?q=trail&act=detail&id=759', 'https://hiking.biji.co/index.php?q=trail&act=detail&id=288', 'https://hiking.biji.co/index.php?q=trail&act=detail&id=87', 'https://hiking.biji.co/index.php?q=trail&act=detail&id=413', 'https://hiking.biji.co/index.php?q=trail&act=detail&id=303', 'https://hiking.biji.co/index.php?q=trail&act=detail&id=287', 'https://hiking.biji.co/index.php?q=trail&act=detail&id=525', 'https://hiking.biji.co/index.php?q=trail&act=detail&id=490', 'https://hiking.biji.co/index.php?q=trail&act=detail&id=289', 'https://hiking.biji.co/index.php?q=trail&act=detail&id=400', 'https://hiking.biji.co/index.php?q=trail&act=detail&id=314', 'https://hiking.biji.co/index.php?q=trail&act=detail&id=41', 'https://hiking.biji.co/index.php?q=trail&act=detail&id=74']\n",
      "象山親山步道 4.3\n",
      "1\n",
      "七星山主峰、東峰步道 4.4\n",
      "2\n",
      "草嶺古道 4.3\n",
      "3\n",
      "擎天崗環形步道 4.4\n",
      "4\n",
      "硬漢嶺步道(觀音山) 4.3\n",
      "5\n",
      "東眼山自導式步道 4.3\n",
      "6\n",
      "忘憂谷步道 4.3\n",
      "7\n",
      "十分瀑布步道 4.2\n",
      "8\n",
      "合歡北峰步道 4.4\n",
      "9\n",
      "滿月圓國家森林遊樂區步道群 4.3\n",
      "10\n",
      "合歡石門山步道 4.5\n",
      "11\n",
      "溪頭觀景步道 4.4\n",
      "12\n",
      "合歡東峰步道 4.5\n",
      "13\n",
      "五峰旗瀑布步道 4.1\n",
      "14\n",
      "溪頭大學池步道 4.4\n",
      "15\n",
      "合歡主峰步道 4.5\n",
      "16\n",
      "無耳茶壺山步道 4.2\n",
      "17\n",
      "阿里山國家森林遊樂區巨木群步道 4.5\n",
      "18\n",
      "金面山親山步道 4.1\n",
      "19\n",
      "軍艦岩、丹鳳山親山步道 4.2\n"
     ]
    },
    {
     "ename": "NoSuchWindowException",
     "evalue": "Message: no such window: target window already closed\nfrom unknown error: web view not found\n  (Session info: chrome=114.0.5735.110)\nStacktrace:\nBacktrace:\n\tGetHandleVerifier [0x00DE8893+48451]\n\t(No symbol) [0x00D7B8A1]\n\t(No symbol) [0x00C85058]\n\t(No symbol) [0x00C6D073]\n\t(No symbol) [0x00CCDEBB]\n\t(No symbol) [0x00CDBFD3]\n\t(No symbol) [0x00CCA0B6]\n\t(No symbol) [0x00CA7E08]\n\t(No symbol) [0x00CA8F2D]\n\tGetHandleVerifier [0x01048E3A+2540266]\n\tGetHandleVerifier [0x01088959+2801161]\n\tGetHandleVerifier [0x0108295C+2776588]\n\tGetHandleVerifier [0x00E72280+612144]\n\t(No symbol) [0x00D84F6C]\n\t(No symbol) [0x00D811D8]\n\t(No symbol) [0x00D812BB]\n\t(No symbol) [0x00D74857]\n\tBaseThreadInitThunk [0x775D7D59+25]\n\tRtlInitializeExceptionChain [0x7783B74B+107]\n\tRtlClearBits [0x7783B6CF+191]\n",
     "output_type": "error",
     "traceback": [
      "\u001b[1;31m---------------------------------------------------------------------------\u001b[0m",
      "\u001b[1;31mNoSuchWindowException\u001b[0m                     Traceback (most recent call last)",
      "Cell \u001b[1;32mIn[2], line 62\u001b[0m\n\u001b[0;32m     60\u001b[0m driver\u001b[38;5;241m.\u001b[39mget(trail_list[n])\n\u001b[0;32m     61\u001b[0m h \u001b[38;5;241m=\u001b[39m trail_list[n]\n\u001b[1;32m---> 62\u001b[0m height \u001b[38;5;241m=\u001b[39m \u001b[43mdriver\u001b[49m\u001b[38;5;241;43m.\u001b[39;49m\u001b[43mfind_elements\u001b[49m\u001b[43m(\u001b[49m\u001b[43mBy\u001b[49m\u001b[38;5;241;43m.\u001b[39;49m\u001b[43mCSS_SELECTOR\u001b[49m\u001b[43m,\u001b[49m\u001b[38;5;124;43m\"\u001b[39;49m\u001b[38;5;124;43mdd[class=\u001b[39;49m\u001b[38;5;124;43m'\u001b[39;49m\u001b[38;5;124;43mflex-1 p-4\u001b[39;49m\u001b[38;5;124;43m'\u001b[39;49m\u001b[38;5;124;43m]\u001b[39;49m\u001b[38;5;124;43m\"\u001b[39;49m\u001b[43m)\u001b[49m\n\u001b[0;32m     64\u001b[0m i \u001b[38;5;241m=\u001b[39m height[\u001b[38;5;241m4\u001b[39m]\u001b[38;5;241m.\u001b[39mtext\n\u001b[0;32m     65\u001b[0m j \u001b[38;5;241m=\u001b[39m height[\u001b[38;5;241m5\u001b[39m]\u001b[38;5;241m.\u001b[39mtext\n",
      "File \u001b[1;32m~\\anaconda3\\lib\\site-packages\\selenium\\webdriver\\remote\\webdriver.py:861\u001b[0m, in \u001b[0;36mWebDriver.find_elements\u001b[1;34m(self, by, value)\u001b[0m\n\u001b[0;32m    857\u001b[0m     value \u001b[38;5;241m=\u001b[39m \u001b[38;5;124mf\u001b[39m\u001b[38;5;124m'\u001b[39m\u001b[38;5;124m[name=\u001b[39m\u001b[38;5;124m\"\u001b[39m\u001b[38;5;132;01m{\u001b[39;00mvalue\u001b[38;5;132;01m}\u001b[39;00m\u001b[38;5;124m\"\u001b[39m\u001b[38;5;124m]\u001b[39m\u001b[38;5;124m'\u001b[39m\n\u001b[0;32m    859\u001b[0m \u001b[38;5;66;03m# Return empty list if driver returns null\u001b[39;00m\n\u001b[0;32m    860\u001b[0m \u001b[38;5;66;03m# See https://github.com/SeleniumHQ/selenium/issues/4555\u001b[39;00m\n\u001b[1;32m--> 861\u001b[0m \u001b[38;5;28;01mreturn\u001b[39;00m \u001b[38;5;28;43mself\u001b[39;49m\u001b[38;5;241;43m.\u001b[39;49m\u001b[43mexecute\u001b[49m\u001b[43m(\u001b[49m\u001b[43mCommand\u001b[49m\u001b[38;5;241;43m.\u001b[39;49m\u001b[43mFIND_ELEMENTS\u001b[49m\u001b[43m,\u001b[49m\u001b[43m \u001b[49m\u001b[43m{\u001b[49m\u001b[38;5;124;43m\"\u001b[39;49m\u001b[38;5;124;43musing\u001b[39;49m\u001b[38;5;124;43m\"\u001b[39;49m\u001b[43m:\u001b[49m\u001b[43m \u001b[49m\u001b[43mby\u001b[49m\u001b[43m,\u001b[49m\u001b[43m \u001b[49m\u001b[38;5;124;43m\"\u001b[39;49m\u001b[38;5;124;43mvalue\u001b[39;49m\u001b[38;5;124;43m\"\u001b[39;49m\u001b[43m:\u001b[49m\u001b[43m \u001b[49m\u001b[43mvalue\u001b[49m\u001b[43m}\u001b[49m\u001b[43m)\u001b[49m[\u001b[38;5;124m\"\u001b[39m\u001b[38;5;124mvalue\u001b[39m\u001b[38;5;124m\"\u001b[39m] \u001b[38;5;129;01mor\u001b[39;00m []\n",
      "File \u001b[1;32m~\\anaconda3\\lib\\site-packages\\selenium\\webdriver\\remote\\webdriver.py:440\u001b[0m, in \u001b[0;36mWebDriver.execute\u001b[1;34m(self, driver_command, params)\u001b[0m\n\u001b[0;32m    438\u001b[0m response \u001b[38;5;241m=\u001b[39m \u001b[38;5;28mself\u001b[39m\u001b[38;5;241m.\u001b[39mcommand_executor\u001b[38;5;241m.\u001b[39mexecute(driver_command, params)\n\u001b[0;32m    439\u001b[0m \u001b[38;5;28;01mif\u001b[39;00m response:\n\u001b[1;32m--> 440\u001b[0m     \u001b[38;5;28;43mself\u001b[39;49m\u001b[38;5;241;43m.\u001b[39;49m\u001b[43merror_handler\u001b[49m\u001b[38;5;241;43m.\u001b[39;49m\u001b[43mcheck_response\u001b[49m\u001b[43m(\u001b[49m\u001b[43mresponse\u001b[49m\u001b[43m)\u001b[49m\n\u001b[0;32m    441\u001b[0m     response[\u001b[38;5;124m\"\u001b[39m\u001b[38;5;124mvalue\u001b[39m\u001b[38;5;124m\"\u001b[39m] \u001b[38;5;241m=\u001b[39m \u001b[38;5;28mself\u001b[39m\u001b[38;5;241m.\u001b[39m_unwrap_value(response\u001b[38;5;241m.\u001b[39mget(\u001b[38;5;124m\"\u001b[39m\u001b[38;5;124mvalue\u001b[39m\u001b[38;5;124m\"\u001b[39m, \u001b[38;5;28;01mNone\u001b[39;00m))\n\u001b[0;32m    442\u001b[0m     \u001b[38;5;28;01mreturn\u001b[39;00m response\n",
      "File \u001b[1;32m~\\anaconda3\\lib\\site-packages\\selenium\\webdriver\\remote\\errorhandler.py:245\u001b[0m, in \u001b[0;36mErrorHandler.check_response\u001b[1;34m(self, response)\u001b[0m\n\u001b[0;32m    243\u001b[0m         alert_text \u001b[38;5;241m=\u001b[39m value[\u001b[38;5;124m\"\u001b[39m\u001b[38;5;124malert\u001b[39m\u001b[38;5;124m\"\u001b[39m]\u001b[38;5;241m.\u001b[39mget(\u001b[38;5;124m\"\u001b[39m\u001b[38;5;124mtext\u001b[39m\u001b[38;5;124m\"\u001b[39m)\n\u001b[0;32m    244\u001b[0m     \u001b[38;5;28;01mraise\u001b[39;00m exception_class(message, screen, stacktrace, alert_text)  \u001b[38;5;66;03m# type: ignore[call-arg]  # mypy is not smart enough here\u001b[39;00m\n\u001b[1;32m--> 245\u001b[0m \u001b[38;5;28;01mraise\u001b[39;00m exception_class(message, screen, stacktrace)\n",
      "\u001b[1;31mNoSuchWindowException\u001b[0m: Message: no such window: target window already closed\nfrom unknown error: web view not found\n  (Session info: chrome=114.0.5735.110)\nStacktrace:\nBacktrace:\n\tGetHandleVerifier [0x00DE8893+48451]\n\t(No symbol) [0x00D7B8A1]\n\t(No symbol) [0x00C85058]\n\t(No symbol) [0x00C6D073]\n\t(No symbol) [0x00CCDEBB]\n\t(No symbol) [0x00CDBFD3]\n\t(No symbol) [0x00CCA0B6]\n\t(No symbol) [0x00CA7E08]\n\t(No symbol) [0x00CA8F2D]\n\tGetHandleVerifier [0x01048E3A+2540266]\n\tGetHandleVerifier [0x01088959+2801161]\n\tGetHandleVerifier [0x0108295C+2776588]\n\tGetHandleVerifier [0x00E72280+612144]\n\t(No symbol) [0x00D84F6C]\n\t(No symbol) [0x00D811D8]\n\t(No symbol) [0x00D812BB]\n\t(No symbol) [0x00D74857]\n\tBaseThreadInitThunk [0x775D7D59+25]\n\tRtlInitializeExceptionChain [0x7783B74B+107]\n\tRtlClearBits [0x7783B6CF+191]\n"
     ]
    }
   ],
   "source": [
    "from selenium import webdriver \n",
    "from selenium.webdriver.common.by import By\n",
    "from selenium.webdriver.support.wait import WebDriverWait\n",
    "from selenium.webdriver.support import expected_conditions as EC\n",
    "from selenium.webdriver.chrome.options import Options\n",
    "\n",
    "from bs4 import BeautifulSoup\n",
    "from time import sleep\n",
    "import openpyxl\n",
    "\n",
    "driver = webdriver.Chrome(\"C:\\\\Users\\\\user\\\\chromedriver.exe\")\n",
    "driver.get(\"https://hiking.biji.co/index.php?q=trail\")\n",
    "\n",
    "wb=openpyxl.Workbook()\n",
    "ws=wb.active\n",
    "\n",
    "ws['A1']='步道名稱'\n",
    "ws['B1']='步道評分'\n",
    "ws['C1']='所在地區'\n",
    "ws['D1']='難度評分'\n",
    "ws['E1']='步道長度'\n",
    "ws['F1']='所需時間'\n",
    "ws['G1']='造訪人次'\n",
    "ws['H1']='步道連結'\n",
    "ws['I1']='海拔高度'\n",
    "ws['J1']='高度落差'\n",
    "\n",
    "\n",
    "soup = BeautifulSoup(driver.page_source,\"html.parser\")\n",
    "\n",
    "page = 1\n",
    "while soup.find_all(\"div\",class_=\"flex-1 relative p-5 space-y-2.5\") !=[]:\n",
    "#while page<2:\n",
    "    n=0\n",
    "    trail_list = []\n",
    "    trails = driver.find_elements(By.XPATH, \"//h2[@class='text-xl truncate']/a\")\n",
    "\n",
    "    for detail in trails:\n",
    "        trail_list.append(detail.get_attribute(\"href\"))\n",
    "            #h = detail.get_attribute(\"href\")   \n",
    "    print(trail_list)\n",
    "    \n",
    "    \n",
    "    for trail in soup.find_all(\"div\",class_=\"flex-1 relative p-5 space-y-2.5\"):        \n",
    "\n",
    "        a = trail.a.text\n",
    "        b = trail.find(\"span\",class_=\"font-bold\").text\n",
    "        c = trail.find(\"div\",class_=\"text-base text-gray-600 flex-1 truncate\").text\n",
    "        d = trail.select(\"li\")[0].text\n",
    "        e = trail.select(\"li\")[1].text\n",
    "        f = trail.select(\"li\")[2].text\n",
    "        g = trail.select(\"li\")[4].text.replace(\"\\n\", \"\")\n",
    "\n",
    "        print(a,b)\n",
    "            #tried.append([a,b,c,d,e,f,g])\n",
    "            #ws.append([a,b,c,d,e,f,g]) \n",
    "\n",
    "\n",
    "            #h = trail_list[n]\n",
    "        driver.get(trail_list[n])\n",
    "        h = trail_list[n]\n",
    "        height = driver.find_elements(By.CSS_SELECTOR,\"dd[class='flex-1 p-4']\")\n",
    "\n",
    "        i = height[4].text\n",
    "        j = height[5].text\n",
    "\n",
    "\n",
    "        n+=1\n",
    "        print(n)\n",
    "        ws.append([a,b,c,d,e,f,g,h,i,j])\n",
    "\n",
    "        \n",
    "\n",
    "    page+=1\n",
    "\n",
    "    driver.get('https://hiking.biji.co/index.php?q=trail&page='+str(page))\n",
    "    soup = BeautifulSoup(driver.page_source,\"html.parser\")\n",
    "    print(\"--------------------------\")\n",
    "    print(page)\n",
    "    wb.save('success_03.xlsx')"
   ]
  },
  {
   "cell_type": "code",
   "execution_count": 6,
   "id": "a0d2e947",
   "metadata": {},
   "outputs": [
    {
     "name": "stdout",
     "output_type": "stream",
     "text": [
      "[]\n",
      "[]\n"
     ]
    }
   ],
   "source": [
    "trail_list = []\n",
    "\n",
    "trails = driver.find_elements(By.XPATH, \"//h2[@class='text-xl truncate']/a\")\n",
    "\n",
    "altitude = []\n",
    "gap = []\n",
    "\n",
    "for trail in trails:\n",
    "    trail_list.append(trail.get_attribute(\"href\"))\n",
    "    \n",
    "print(trail_list)\n",
    "for info in trail_list:\n",
    "    driver.get(info)\n",
    "    height = driver.find_elements(By.CSS_SELECTOR,\"dd[class='flex-1 p-4']\")\n",
    "       \n",
    "    altitude.append(height[4].text)\n",
    "    gap.append(height[5].text)\n",
    "    \n",
    "print(altitude)"
   ]
  },
  {
   "cell_type": "code",
   "execution_count": 17,
   "id": "aaa10230",
   "metadata": {},
   "outputs": [
    {
     "name": "stdout",
     "output_type": "stream",
     "text": [
      "['https://hiking.biji.co/index.php?q=trail&act=detail&id=76', 'https://hiking.biji.co/index.php?q=trail&act=detail&id=54', 'https://hiking.biji.co/index.php?q=trail&act=detail&id=171', 'https://hiking.biji.co/index.php?q=trail&act=detail&id=71', 'https://hiking.biji.co/index.php?q=trail&act=detail&id=108', 'https://hiking.biji.co/index.php?q=trail&act=detail&id=228', 'https://hiking.biji.co/index.php?q=trail&act=detail&id=30', 'https://hiking.biji.co/index.php?q=trail&act=detail&id=759', 'https://hiking.biji.co/index.php?q=trail&act=detail&id=288', 'https://hiking.biji.co/index.php?q=trail&act=detail&id=87', 'https://hiking.biji.co/index.php?q=trail&act=detail&id=413', 'https://hiking.biji.co/index.php?q=trail&act=detail&id=303', 'https://hiking.biji.co/index.php?q=trail&act=detail&id=287', 'https://hiking.biji.co/index.php?q=trail&act=detail&id=525', 'https://hiking.biji.co/index.php?q=trail&act=detail&id=490', 'https://hiking.biji.co/index.php?q=trail&act=detail&id=289', 'https://hiking.biji.co/index.php?q=trail&act=detail&id=400', 'https://hiking.biji.co/index.php?q=trail&act=detail&id=314', 'https://hiking.biji.co/index.php?q=trail&act=detail&id=41', 'https://hiking.biji.co/index.php?q=trail&act=detail&id=74']\n"
     ]
    }
   ],
   "source": [
    "import openpyxl\n",
    "\n",
    "wb=openpyxl.Workbook()\n",
    "ws=wb.active\n",
    "\n",
    "ws['A1']='步道連結'\n",
    "ws['B1']='海拔高度'\n",
    "ws['C1']='海拔落差'\n",
    "\n",
    "trail_list = []\n",
    "\n",
    "trails = driver.find_elements(By.XPATH, \"//h2[@class='text-xl truncate']/a\")\n",
    "\n",
    "altitude = []\n",
    "gap = []\n",
    "\n",
    "for trail in trails:\n",
    "    trail_list.append(trail.get_attribute(\"href\"))\n",
    "    a = trail.get_attribute(\"href\")\n",
    "    \n",
    "print(trail_list)\n",
    "for info in trail_list:\n",
    "    driver.get(info)\n",
    "    height = driver.find_elements(By.CSS_SELECTOR,\"dd[class='flex-1 p-4']\")\n",
    "       \n",
    "    b = height[4].text\n",
    "    c = height[5].text\n",
    "    \n",
    "    ws.append([a,b,c])\n",
    "    \n",
    "wb.save('try0607.xlsx')"
   ]
  }
 ],
 "metadata": {
  "kernelspec": {
   "display_name": "Python 3 (ipykernel)",
   "language": "python",
   "name": "python3"
  },
  "language_info": {
   "codemirror_mode": {
    "name": "ipython",
    "version": 3
   },
   "file_extension": ".py",
   "mimetype": "text/x-python",
   "name": "python",
   "nbconvert_exporter": "python",
   "pygments_lexer": "ipython3",
   "version": "3.10.9"
  }
 },
 "nbformat": 4,
 "nbformat_minor": 5
}
